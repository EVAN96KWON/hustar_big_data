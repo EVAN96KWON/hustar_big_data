{
 "cells": [
  {
   "cell_type": "markdown",
   "id": "modern-portland",
   "metadata": {
    "pycharm": {
     "name": "#%% md\n"
    }
   },
   "source": [
    "## 실습 1: 사람 키로 몸무게 예측\n",
    "### 1) 사람 키와 몸무게 두 변수에 대한 산점도 그리기\n",
    "### 2) 사람 키(키) 데이터를 가지고 몸무게를 예측하는 선형 회귀모형 만들어보기 (train_data : test_data = 7:3 split)\n",
    "### 3) 회귀식의 기울기와 y 절편 구하기\n",
    "### 4) R^2, MSE 계산하기"
   ]
  },
  {
   "cell_type": "code",
   "execution_count": 47,
   "id": "substantial-berry",
   "metadata": {
    "pycharm": {
     "name": "#%%\n"
    }
   },
   "outputs": [],
   "source": [
    "import warnings\n",
    "\n",
    "warnings.filterwarnings(action='ignore')"
   ]
  },
  {
   "cell_type": "code",
   "execution_count": 48,
   "id": "heavy-navigator",
   "metadata": {
    "pycharm": {
     "name": "#%%\n"
    }
   },
   "outputs": [],
   "source": [
    "import numpy as np\n",
    "import pandas as pd\n",
    "from sklearn.linear_model import LinearRegression\n",
    "from sklearn.metrics import mean_squared_error, r2_score\n",
    "import matplotlib.pyplot as plt\n",
    "import seaborn as sns\n",
    "from sklearn.model_selection import train_test_split"
   ]
  },
  {
   "cell_type": "code",
   "execution_count": 49,
   "id": "printable-logan",
   "metadata": {
    "pycharm": {
     "name": "#%%\n"
    }
   },
   "outputs": [
    {
     "data": {
      "text/plain": "<matplotlib.collections.PathCollection at 0x1c5f00a5760>"
     },
     "execution_count": 49,
     "metadata": {},
     "output_type": "execute_result"
    },
    {
     "data": {
      "text/plain": "<Figure size 432x288 with 1 Axes>",
      "image/png": "[encoded data removed]"
     },
     "metadata": {
      "needs_background": "light"
     },
     "output_type": "display_data"
    }
   ],
   "source": [
    "### 1) 사람 키와 몸무게 두 변수에 대한 산점도 그리기\n",
    "students = pd.read_csv('../data/student.csv', encoding='EUC-KR')\n",
    "data = students.loc[:, ['키', '몸무게']]\n",
    "data = data.dropna(axis=0)\n",
    "X, y = data['몸무게'], data['키']\n",
    "plt.scatter(X, y)"
   ]
  },
  {
   "cell_type": "code",
   "execution_count": 50,
   "id": "common-reference",
   "metadata": {
    "pycharm": {
     "name": "#%%\n"
    }
   },
   "outputs": [
    {
     "data": {
      "text/plain": "LinearRegression()"
     },
     "execution_count": 50,
     "metadata": {},
     "output_type": "execute_result"
    }
   ],
   "source": [
    "### 2) 사람 키(키) 데이터를 가지고 몸무게를 예측하는 선형 회귀모형 만들어보기 (train_data : test_data = 7:3 split)\n",
    "X_train, X_test, y_train, y_test = train_test_split(X, y, test_size=0.3, random_state=42)\n",
    "model = LinearRegression()\n",
    "model.fit(X_train.values.reshape(-1,1), y_train)"
   ]
  },
  {
   "cell_type": "code",
   "execution_count": 51,
   "id": "endless-screw",
   "metadata": {
    "pycharm": {
     "name": "#%%\n"
    }
   },
   "outputs": [
    {
     "name": "stdout",
     "output_type": "stream",
     "text": [
      "기울기: 0.845926670040746\n",
      "y절편: 112.16046719093747\n"
     ]
    }
   ],
   "source": [
    "### 3) 회귀식의 기울기와 y 절편 구하기\n",
    "print(f'기울기: {model.coef_[0]}')\n",
    "print(f'y절편: {model.intercept_}')"
   ]
  },
  {
   "cell_type": "code",
   "execution_count": 52,
   "id": "aggregate-explanation",
   "metadata": {
    "pycharm": {
     "name": "#%%\n"
    }
   },
   "outputs": [
    {
     "name": "stdout",
     "output_type": "stream",
     "text": [
      "R2 score: -36.0581799954192\n",
      "MSE score: 10946.08239586919\n"
     ]
    }
   ],
   "source": [
    "### 4) R^2, MSE 계산하기\n",
    "print(f'R2 score: {r2_score(X_test, y_test)}')\n",
    "print(f'MSE score: {mean_squared_error(X_test, y_test)}')"
   ]
  },
  {
   "cell_type": "code",
   "execution_count": 53,
   "id": "immediate-registration",
   "metadata": {
    "pycharm": {
     "name": "#%%\n"
    }
   },
   "outputs": [
    {
     "data": {
      "text/plain": "<Figure size 432x288 with 1 Axes>",
      "image/png": "[encoded data removed]"
     },
     "metadata": {
      "needs_background": "light"
     },
     "output_type": "display_data"
    }
   ],
   "source": [
    "plt.plot(X, y, 'o')\n",
    "plt.plot(X, model.predict(X.values.reshape(-1,1)))\n",
    "plt.show()"
   ]
  },
  {
   "cell_type": "markdown",
   "id": "premier-petroleum",
   "metadata": {
    "pycharm": {
     "name": "#%% md\n"
    }
   },
   "source": [
    "## 실습 2: 보스톤 집값 예측 모델\n",
    "### 1) 주택 방 수와 집값 두 변수에 대한 산점도 그리기\n",
    "### 2) 주택당 방 수(RM) 데이터를 가지고 집값(Target) 예측하는 선형 회귀모형 만들어보기 (train_data : test_data = 7:3 split)\n",
    "### 3) 회귀식의 기울기와 y 절편 구하기\n",
    "### 4)  R^2, MSE 계산하기"
   ]
  },
  {
   "cell_type": "markdown",
   "id": "demanding-mother",
   "metadata": {
    "pycharm": {
     "name": "#%% md\n"
    }
   },
   "source": [
    "**타겟 변수**  \n",
    ">Target: 1978년도 보스턴 주택 가격  \n",
    "506개 타운의 주택 가격 중앙값 (단위 1,000 달러)   \n",
    "\n",
    "  \n",
    "**특성 변수**  \n",
    ">CRIM: 범죄율  \n",
    "INDUS: 비소매상업지역 면적 비율  \n",
    "NOX: 일산화질소 농도  \n",
    "RM: 주택당 방 수  \n",
    "LSTAT: 인구 중 하위 계층 비율  \n",
    "B: 인구 중 흑인 비율  \n",
    "PTRATIO: 학생/교사 비율  \n",
    "ZN: 25,000 평방피트를 초과 거주지역 비율  \n",
    "CHAS: 찰스강의 경계에 위치한 경우는 1, 아니면 0  \n",
    "AGE: 1940년 이전에 건축된 주택의 비율  \n",
    "RAD: 방사형 고속도로까지의 거리  \n",
    "DIS: 직업센터의 거리  \n",
    "TAX: 재산세율  "
   ]
  },
  {
   "cell_type": "code",
   "execution_count": 54,
   "id": "western-emergency",
   "metadata": {
    "pycharm": {
     "name": "#%%\n"
    }
   },
   "outputs": [],
   "source": [
    "import numpy as np\n",
    "import pandas as pd\n",
    "from sklearn.linear_model import LinearRegression\n",
    "from sklearn.metrics import mean_squared_error, r2_score\n",
    "import matplotlib.pyplot as plt\n",
    "import seaborn as sns\n",
    "from sklearn.model_selection import train_test_split"
   ]
  },
  {
   "cell_type": "code",
   "execution_count": 55,
   "outputs": [
    {
     "data": {
      "text/plain": "<matplotlib.collections.PathCollection at 0x1c5efd6cfd0>"
     },
     "execution_count": 55,
     "metadata": {},
     "output_type": "execute_result"
    },
    {
     "data": {
      "text/plain": "<Figure size 432x288 with 1 Axes>",
      "image/png": "[encoded data removed]"
     },
     "metadata": {
      "needs_background": "light"
     },
     "output_type": "display_data"
    }
   ],
   "source": [
    "### 1) 주택 방 수와 집값 두 변수에 대한 산점도 그리기\n",
    "boston_house = pd.read_csv('../data/boston_house.csv')\n",
    "data = boston_house.loc[:, ['RM', 'Target']]\n",
    "data = data.dropna(axis=0)\n",
    "X, y = data['RM'], data['Target']\n",
    "plt.scatter(X, y)"
   ],
   "metadata": {
    "collapsed": false,
    "pycharm": {
     "name": "#%%\n"
    }
   }
  },
  {
   "cell_type": "code",
   "execution_count": 56,
   "id": "fourth-sewing",
   "metadata": {
    "pycharm": {
     "name": "#%%\n"
    }
   },
   "outputs": [
    {
     "data": {
      "text/plain": "LinearRegression()"
     },
     "execution_count": 56,
     "metadata": {},
     "output_type": "execute_result"
    }
   ],
   "source": [
    "### 2) 주택당 방 수(RM) 데이터를 가지고 집값(Target) 예측하는 선형 회귀모형 만들어보기 (train_data : test_data = 7:3 split)\n",
    "X_train, X_test, y_train, y_test = train_test_split(X, y, test_size=0.3, random_state=42)\n",
    "model = LinearRegression()\n",
    "model.fit(X_train.values.reshape(-1,1), y_train)"
   ]
  },
  {
   "cell_type": "code",
   "execution_count": 57,
   "id": "occasional-syria",
   "metadata": {
    "pycharm": {
     "name": "#%%\n"
    }
   },
   "outputs": [
    {
     "name": "stdout",
     "output_type": "stream",
     "text": [
      "기울기: 9.118102197303784\n",
      "y절편: -34.66230743840677\n"
     ]
    }
   ],
   "source": [
    "### 3) 회귀식의 기울기와 y 절편 구하기\n",
    "print(f'기울기: {model.coef_[0]}')\n",
    "print(f'y절편: {model.intercept_}')"
   ]
  },
  {
   "cell_type": "code",
   "execution_count": 58,
   "outputs": [
    {
     "name": "stdout",
     "output_type": "stream",
     "text": [
      "R2 score: -700.9575569850808\n",
      "MSE score: 298.9082248486842\n"
     ]
    }
   ],
   "source": [
    "### 4)  R^2, MSE 계산하기\n",
    "print(f'R2 score: {r2_score(X_test, y_test)}')\n",
    "print(f'MSE score: {mean_squared_error(X_test, y_test)}')"
   ],
   "metadata": {
    "collapsed": false,
    "pycharm": {
     "name": "#%%\n"
    }
   }
  },
  {
   "cell_type": "code",
   "execution_count": 59,
   "outputs": [
    {
     "data": {
      "text/plain": "<Figure size 432x288 with 1 Axes>",
      "image/png": "[encoded data removed]"
     },
     "metadata": {
      "needs_background": "light"
     },
     "output_type": "display_data"
    }
   ],
   "source": [
    "plt.plot(X, y, 'o')\n",
    "plt.plot(X, model.predict(X.values.reshape(-1,1)))\n",
    "plt.show()"
   ],
   "metadata": {
    "collapsed": false,
    "pycharm": {
     "name": "#%%\n"
    }
   }
  }
 ],
 "metadata": {
  "kernelspec": {
   "display_name": "Python 3",
   "language": "python",
   "name": "python3"
  },
  "language_info": {
   "codemirror_mode": {
    "name": "ipython",
    "version": 3
   },
   "file_extension": ".py",
   "mimetype": "text/x-python",
   "name": "python",
   "nbconvert_exporter": "python",
   "pygments_lexer": "ipython3",
   "version": "3.8.8"
  }
 },
 "nbformat": 4,
 "nbformat_minor": 5
}