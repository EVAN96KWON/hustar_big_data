{
 "cells": [
  {
   "cell_type": "code",
   "execution_count": 2,
   "id": "shared-trash",
   "metadata": {},
   "outputs": [],
   "source": [
    "import numpy as np\n",
    "import pandas as pd\n",
    "from sklearn.linear_model import LinearRegression\n",
    "from sklearn.metrics import mean_squared_error, r2_score\n",
    "import matplotlib.pyplot as plt\n",
    "from sklearn.preprocessing import scale\n",
    "from sklearn.decomposition import PCA\n",
    "from sklearn.model_selection import cross_val_score"
   ]
  },
  {
   "cell_type": "markdown",
   "id": "permanent-beverage",
   "metadata": {},
   "source": [
    "### 실습 과제 1. Boston_house_small 데이터를 활용한 PCA + regression 실습\n",
    "\n",
    "#### 1) 데이터 불러온 후 train_data : test_data = 7:3 split, random_state=10\n",
    "** 종속변수는 ‘Target', 독립변수는 나머지 변수"
   ]
  },
  {
   "cell_type": "code",
   "execution_count": 6,
   "id": "analyzed-familiar",
   "metadata": {},
   "outputs": [],
   "source": [
    "from sklearn.model_selection import train_test_split\n",
    "\n",
    "house = pd.read_csv('../data/Boston_house_small.csv')\n",
    "X = house.drop('Target', axis=1)\n",
    "y = house.Target\n",
    "X_train, X_test, y_train, y_test = train_test_split(X, y, test_size=0.3, random_state=10)"
   ]
  },
  {
   "cell_type": "markdown",
   "id": "configured-radiation",
   "metadata": {},
   "source": [
    "#### 2) PCA 수행해서 주성분(principal component) 개수에 따른 mean squared Error 그래프 그리고, principal component 개수에 따른 PCA의 explained_variance_ratio 구하기\n",
    "**cross_val_score 함수 이용해서(cv=5) principal component 5개까지 mean squared error 구하기\n",
    "\n"
   ]
  },
  {
   "cell_type": "code",
   "execution_count": 21,
   "outputs": [
    {
     "data": {
      "text/plain": "Text(0.5, 1.0, 'hp')"
     },
     "execution_count": 21,
     "metadata": {},
     "output_type": "execute_result"
    },
    {
     "data": {
      "text/plain": "<Figure size 432x288 with 1 Axes>",
      "image/png": "[encoded data removed]"
     },
     "metadata": {
      "needs_background": "light"
     },
     "output_type": "display_data"
    }
   ],
   "source": [
    "pca = PCA()\n",
    "X_train_reduced = pca.fit_transform(scale(X_train))\n",
    "reg = LinearRegression()\n",
    "mse = []\n",
    "\n",
    "for i in np.arange(1, 5):\n",
    "    score = -1 * cross_val_score(reg, X_train_reduced[:, :i], y_train, cv=5, scoring='neg_mean_squared_error').mean()\n",
    "    mse.append(score)\n",
    "\n",
    "num_pc = np.arange(1, 5)\n",
    "plt.plot(num_pc, mse)\n",
    "plt.xlabel(\"Number of Principal Components\")\n",
    "plt.ylabel(\"MSE\")\n",
    "plt.title('hp')"
   ],
   "metadata": {
    "collapsed": false,
    "pycharm": {
     "name": "#%%\n"
    }
   }
  },
  {
   "cell_type": "code",
   "execution_count": 22,
   "outputs": [
    {
     "name": "stdout",
     "output_type": "stream",
     "text": [
      "Explained variance per principal component : [0.4903983  0.10552172 0.08436537 0.07794373 0.06522836 0.05725848\n",
      " 0.04260774 0.02852523 0.01583058 0.01303964 0.01268944 0.00498424\n",
      " 0.00160716]\n"
     ]
    }
   ],
   "source": [
    "print(\"Explained variance per principal component : {}\".format(pca.explained_variance_ratio_))"
   ],
   "metadata": {
    "collapsed": false,
    "pycharm": {
     "name": "#%%\n"
    }
   }
  },
  {
   "cell_type": "markdown",
   "id": "breeding-mouse",
   "metadata": {},
   "source": [
    "#### 3) 가장 작은 mean squared error 가지는 주성분 개수로  PCA 수행하고, regression을 하기. 검증 데이터(test data)에 대한 mean squared error 구하고,  모델의 R^2 구하기"
   ]
  },
  {
   "cell_type": "code",
   "execution_count": 27,
   "id": "soviet-senegal",
   "metadata": {},
   "outputs": [],
   "source": [
    "pca = PCA(n_components=3)\n",
    "X_train_reduced = pca.fit_transform(scale(X_train))\n",
    "X_test_reduced = pca.transform(scale(X_test))"
   ]
  },
  {
   "cell_type": "code",
   "execution_count": 28,
   "outputs": [
    {
     "name": "stdout",
     "output_type": "stream",
     "text": [
      "mse:  36.42802456441782\n",
      "R^2:  0.7305351279833863\n"
     ]
    }
   ],
   "source": [
    "reg = LinearRegression()\n",
    "reg.fit(X_train_reduced, y_train)\n",
    "\n",
    "pred = reg.predict(X_test_reduced)\n",
    "\n",
    "print('mse: ', mean_squared_error(y_test, pred))\n",
    "print('R^2: ', r2_score(y_test, pred))"
   ],
   "metadata": {
    "collapsed": false,
    "pycharm": {
     "name": "#%%\n"
    }
   }
  },
  {
   "cell_type": "markdown",
   "id": "freelance-accreditation",
   "metadata": {},
   "source": [
    "#### 4)  PCA 없이 regression 하기. 검증 데이터(test data)에 대한 mean squared error 구하고,  모델이 R^2 구한 후 PCA를 수행한 결과와 비교하기"
   ]
  },
  {
   "cell_type": "code",
   "execution_count": 29,
   "id": "active-disney",
   "metadata": {},
   "outputs": [
    {
     "name": "stdout",
     "output_type": "stream",
     "text": [
      "mse:  46.78406291711634\n",
      "R^2:  0.6539295864346182\n"
     ]
    }
   ],
   "source": [
    "reg = LinearRegression()\n",
    "reg.fit(X_train, y_train)\n",
    "\n",
    "pred = reg.predict(X_test)\n",
    "\n",
    "print('mse: ', mean_squared_error(y_test, pred))\n",
    "print('R^2: ', r2_score(y_test, pred))"
   ]
  },
  {
   "cell_type": "markdown",
   "id": "diagnostic-handy",
   "metadata": {},
   "source": [
    "### 실습 과제 2. Iris 데이터를 활용한 PCA + SVM 실습\n",
    "\n",
    "#### 1) 데이터 불러온 후 train_data : test_data = 7:3 split, random_state=100\n",
    "** 종속변수는 ‘Target', 독립변수는 나머지 변수"
   ]
  },
  {
   "cell_type": "code",
   "execution_count": 31,
   "id": "adaptive-force",
   "metadata": {},
   "outputs": [],
   "source": [
    "from sklearn.model_selection import train_test_split\n",
    "\n",
    "iris = pd.read_csv('../data/iris.csv')\n",
    "X = iris.drop('Species', axis=1)\n",
    "y = iris.Species\n",
    "X_train, X_test, y_train, y_test = train_test_split(X, y, test_size=0.3, random_state=100)"
   ]
  },
  {
   "cell_type": "markdown",
   "id": "temporal-chemical",
   "metadata": {},
   "source": [
    "#### 2) PCA 수행해서 주성분(principal component) 개수에 따른 accuracy그래프 그리기\n",
    "**cross_val_score 함수 이용해서(cv=5) principal component 5개까지 accuracy 구하기"
   ]
  },
  {
   "cell_type": "code",
   "execution_count": 32,
   "id": "religious-investigator",
   "metadata": {},
   "outputs": [
    {
     "data": {
      "text/plain": "Text(0, 0.5, 'accuracy')"
     },
     "execution_count": 32,
     "metadata": {},
     "output_type": "execute_result"
    },
    {
     "data": {
      "text/plain": "<Figure size 432x288 with 1 Axes>",
      "image/png": "[encoded data removed]"
     },
     "metadata": {
      "needs_background": "light"
     },
     "output_type": "display_data"
    }
   ],
   "source": [
    "from sklearn import svm\n",
    "\n",
    "pca = PCA()\n",
    "X_train_reduced = pca.fit_transform(scale(X_train))\n",
    "accuracy = []\n",
    "\n",
    "for i in np.arange(1, 5):\n",
    "    score = -1 * cross_val_score(svm.SVC(), X_train_reduced[:, :i], y_train, cv=5, scoring='accuracy').mean()\n",
    "    accuracy.append(score)\n",
    "\n",
    "num_pc = np.arange(1, 5)\n",
    "plt.plot(num_pc, accuracy)\n",
    "plt.xlabel(\"Number of Principal Components\")\n",
    "plt.ylabel(\"accuracy\")"
   ]
  },
  {
   "cell_type": "markdown",
   "id": "adolescent-rover",
   "metadata": {},
   "source": [
    "#### 3) 높은 accuracy 가지는 주성분 개수로 PCA 수행하고, 5-fold 교차 검증으로 SVM의 최적 하이퍼파라미터 구하기. 검증 데이터(test data)에 대한 최적 모델의 accuracy와 confusion matrix 구하기\n",
    "** C: [0.01, 0.1, 0.5, 1, 10, 100], gamma: [1, 0.75, 0.5, 0.25, 0.1, 0.01, 0.001], kernel: ['rbf', 'poly', 'linear']"
   ]
  },
  {
   "cell_type": "code",
   "execution_count": 33,
   "outputs": [],
   "source": [
    "pca = PCA(n_components=2)\n",
    "\n",
    "X_train_reduced = pca.fit_transform(scale(X_train))\n",
    "X_test_reduced = pca.transform(scale(X_test))"
   ],
   "metadata": {
    "collapsed": false,
    "pycharm": {
     "name": "#%%\n"
    }
   }
  },
  {
   "cell_type": "code",
   "execution_count": 34,
   "outputs": [
    {
     "data": {
      "text/plain": "GridSearchCV(cv=5, estimator=SVC(),\n             param_grid={'C': [0.01, 0.1, 0.5, 1, 10, 100],\n                         'gamma': [1, 0.75, 0.5, 0.25, 0.1, 0.01, 0.001],\n                         'kernel': ['rbf', 'poly', 'linear']},\n             return_train_score=True, scoring='accuracy')"
     },
     "execution_count": 34,
     "metadata": {},
     "output_type": "execute_result"
    }
   ],
   "source": [
    "from sklearn.model_selection import GridSearchCV\n",
    "\n",
    "param = {'C': [0.01, 0.1, 0.5, 1, 10, 100], 'gamma': [1, 0.75, 0.5, 0.25, 0.1, 0.01, 0.001],\n",
    "         'kernel': ['rbf', 'poly', 'linear']}\n",
    "grid = GridSearchCV(svm.SVC(), param, cv=5, scoring='accuracy', return_train_score=True)\n",
    "grid.fit(X_train_reduced, y_train)"
   ],
   "metadata": {
    "collapsed": false,
    "pycharm": {
     "name": "#%%\n"
    }
   }
  },
  {
   "cell_type": "markdown",
   "id": "classical-shade",
   "metadata": {},
   "source": [
    "#### 4) PCA 없이 최적 하이퍼파라미터로 SVM 모델 학습하기 , 검증 데이터(test data)에 대한 accuracy와 confusion matrix 구하기"
   ]
  },
  {
   "cell_type": "code",
   "execution_count": 36,
   "id": "thrown-queensland",
   "metadata": {},
   "outputs": [],
   "source": [
    "best_params = grid.best_params_\n",
    "best_svm = grid.best_estimator_\n",
    "y_pred = best_svm.predict(X_test_reduced)"
   ]
  },
  {
   "cell_type": "code",
   "execution_count": 39,
   "outputs": [
    {
     "name": "stdout",
     "output_type": "stream",
     "text": [
      "accuracy :  0.9555555555555556\n",
      "confusion matrix : \n",
      "[[16  0  0]\n",
      " [ 0 11  0]\n",
      " [ 0  2 16]]\n"
     ]
    }
   ],
   "source": [
    "from sklearn import metrics\n",
    "con_mat = metrics.confusion_matrix(y_test, y_pred)\n",
    "acc_lin = metrics.accuracy_score(y_test, y_pred)\n",
    "\n",
    "print(\"accuracy : \", acc_lin)\n",
    "print(\"confusion matrix : \")\n",
    "print(con_mat)"
   ],
   "metadata": {
    "collapsed": false,
    "pycharm": {
     "name": "#%%\n"
    }
   }
  }
 ],
 "metadata": {
  "kernelspec": {
   "display_name": "Python 3",
   "language": "python",
   "name": "python3"
  },
  "language_info": {
   "codemirror_mode": {
    "name": "ipython",
    "version": 3
   },
   "file_extension": ".py",
   "mimetype": "text/x-python",
   "name": "python",
   "nbconvert_exporter": "python",
   "pygments_lexer": "ipython3",
   "version": "3.8.8"
  }
 },
 "nbformat": 4,
 "nbformat_minor": 5
}