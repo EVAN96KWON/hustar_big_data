{
 "cells": [
  {
   "cell_type": "markdown",
   "source": [
    "\n",
    "# Optimization"
   ],
   "metadata": {
    "collapsed": false
   }
  },
  {
   "cell_type": "markdown",
   "source": [
    "## Exercise 1\n",
    "Find a value that satisfies the following formula using cvxpy method"
   ],
   "metadata": {
    "collapsed": false
   }
  },
  {
   "cell_type": "code",
   "execution_count": 1,
   "metadata": {
    "collapsed": true
   },
   "outputs": [
    {
     "name": "stdout",
     "output_type": "stream",
     "text": [
      "[[9.99999998]\n",
      " [9.99999999]]\n",
      "-49.999999924906\n"
     ]
    }
   ],
   "source": [
    "import numpy as np\n",
    "import cvxpy as cvx\n",
    "\n",
    "f = np.array([[2], [3]])\n",
    "\n",
    "lb = np.array([[1], [2]])\n",
    "ub = np.array([[10], [10]])\n",
    "\n",
    "x = cvx.Variable((2, 1))\n",
    "\n",
    "obj = cvx.Minimize(-f.T @ x)\n",
    "constraints = [lb <= x, x <= ub]\n",
    "\n",
    "prob = cvx.Problem(obj, constraints)\n",
    "result = prob.solve()\n",
    "\n",
    "print(x.value)\n",
    "print(result)"
   ]
  },
  {
   "cell_type": "markdown",
   "source": [
    "## Exercise 2\n",
    "Find a value that satisfies the following formula using cvxpy method"
   ],
   "metadata": {
    "collapsed": false
   }
  },
  {
   "cell_type": "code",
   "execution_count": 2,
   "outputs": [
    {
     "name": "stdout",
     "output_type": "stream",
     "text": [
      "[[0.33333333]\n",
      " [3.77777778]]\n",
      "7.944444444444443\n"
     ]
    }
   ],
   "source": [
    "f = np.array([[1],\n",
    "              [2]])\n",
    "H = np.array([[1 / 2, 0],\n",
    "              [0, 0]])\n",
    "\n",
    "A = np.array([[3, 4],\n",
    "              [2, 4]])\n",
    "b = np.array([[80],\n",
    "              [80]])\n",
    "\n",
    "x = cvx.Variable((2, 1))\n",
    "\n",
    "obj = cvx.Minimize(cvx.quad_form(x, H) + f.T @ x)\n",
    "constraints = [A @ x <= b,\n",
    "               np.array([[12], [12]]) <= np.array([2, 3]) @ x]\n",
    "\n",
    "prob = cvx.Problem(obj, constraints)\n",
    "result = prob.solve()\n",
    "\n",
    "print(x.value)\n",
    "print(result)"
   ],
   "metadata": {
    "collapsed": false,
    "pycharm": {
     "name": "#%%\n"
    }
   }
  },
  {
   "cell_type": "markdown",
   "source": [
    "## Exercise 3\n",
    "Find a value that satisfies the following formula using gradient descent method"
   ],
   "metadata": {
    "collapsed": false
   }
  },
  {
   "cell_type": "code",
   "execution_count": 5,
   "outputs": [
    {
     "name": "stdout",
     "output_type": "stream",
     "text": [
      "[[-0.50000142]\n",
      " [-0.50000142]]\n"
     ]
    }
   ],
   "source": [
    "H = np.matrix([[10, -2], [-2, 10]])\n",
    "g = -np.matrix([[-4], [-4]])\n",
    "\n",
    "x = np.zeros((2, 1))\n",
    "alpha = 0.2\n",
    "\n",
    "for i in range(25):\n",
    "    df = H*x + g\n",
    "    x -= alpha * df\n",
    "\n",
    "print(x)"
   ],
   "metadata": {
    "collapsed": false,
    "pycharm": {
     "name": "#%%\n"
    }
   }
  },
  {
   "cell_type": "code",
   "execution_count": null,
   "outputs": [],
   "source": [],
   "metadata": {
    "collapsed": false,
    "pycharm": {
     "name": "#%%\n"
    }
   }
  }
 ],
 "metadata": {
  "kernelspec": {
   "display_name": "Python 3",
   "language": "python",
   "name": "python3"
  },
  "language_info": {
   "codemirror_mode": {
    "name": "ipython",
    "version": 2
   },
   "file_extension": ".py",
   "mimetype": "text/x-python",
   "name": "python",
   "nbconvert_exporter": "python",
   "pygments_lexer": "ipython2",
   "version": "2.7.6"
  }
 },
 "nbformat": 4,
 "nbformat_minor": 0
}