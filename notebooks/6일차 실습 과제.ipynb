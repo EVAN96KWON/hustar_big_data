{
 "cells": [
  {
   "cell_type": "code",
   "execution_count": 1,
   "metadata": {
    "pycharm": {
     "name": "#%%\n"
    }
   },
   "outputs": [],
   "source": [
    "import numpy as np\n",
    "import pandas as pd\n",
    "from sklearn import svm\n",
    "from sklearn import metrics"
   ]
  },
  {
   "cell_type": "markdown",
   "metadata": {},
   "source": [
    "### 실습 과제 1. 데이터 불러온 후 NaN 값이 있다면 해당 행 제거하고, train_data : test_data = 7:3 split\n",
    "#### 종속변수는 PKT_Y, 나머지 변수들이 독립변수"
   ]
  },
  {
   "cell_type": "code",
   "execution_count": 26,
   "metadata": {},
   "outputs": [],
   "source": [
    "df = pd.read_csv('../data/contest.csv')"
   ]
  },
  {
   "cell_type": "code",
   "execution_count": 27,
   "metadata": {},
   "outputs": [],
   "source": [
    "df = df.dropna(subset=['PKT_Y'])"
   ]
  },
  {
   "cell_type": "code",
   "execution_count": 28,
   "metadata": {},
   "outputs": [],
   "source": [
    "X=df.iloc[:,6:86]\n",
    "y=df['PKT_Y']"
   ]
  },
  {
   "cell_type": "code",
   "execution_count": 29,
   "metadata": {},
   "outputs": [],
   "source": [
    "from sklearn.model_selection import train_test_split\n",
    "X_train, X_test, y_train, y_test=train_test_split(X, y, test_size=0.3, random_state=42)"
   ]
  },
  {
   "cell_type": "markdown",
   "metadata": {},
   "source": [
    "### 실습 과제 2. 선형 커널, 3차항 커널, RBF 커널, 시그모이드 커널로 각각 SVM 모델 구현 후 accuracy, F1 score, confusion matrix, precision, recall (C=1, gamma = 0.1)"
   ]
  },
  {
   "cell_type": "code",
   "execution_count": 30,
   "metadata": {},
   "outputs": [
    {
     "name": "stdout",
     "output_type": "stream",
     "text": [
      "linear ============>\n",
      "accuracy : 0.6142131979695431\n",
      "f1 score : 0.5648854961832062\n",
      "confusion matrix : \n",
      "[[215  80]\n",
      " [148 148]]\n",
      "precisoin:  0.6491228070175439\n",
      "recall:  0.5\n"
     ]
    }
   ],
   "source": [
    "svm_lin = svm.SVC(kernel='linear', C=1, gamma=0.1).fit(X_train,y_train)\n",
    "y_pred = svm_lin.predict(X_test)\n",
    "print(\"linear ============>\")\n",
    "print(f'accuracy : {metrics.accuracy_score(y_test, y_pred)}')\n",
    "print(f'f1 score : {metrics.f1_score(y_test, y_pred)}')\n",
    "con_mat = metrics.confusion_matrix(y_test, y_pred)\n",
    "print(f'confusion matrix : \\n{con_mat}')\n",
    "print('precisoin: ', con_mat[1][1]/(con_mat[1][1]+con_mat[0][1]))\n",
    "print('recall: ', con_mat[1][1]/(con_mat[1][1]+con_mat[1][0]))"
   ]
  },
  {
   "cell_type": "code",
   "execution_count": 31,
   "metadata": {},
   "outputs": [
    {
     "name": "stdout",
     "output_type": "stream",
     "text": [
      "poly ============>\n",
      "accuracy : 0.5956006768189509\n",
      "f1 score : 0.5678119349005426\n",
      "confusion matrix : \n",
      "[[195 100]\n",
      " [139 157]]\n",
      "precisoin:  0.6108949416342413\n",
      "recall:  0.5304054054054054\n"
     ]
    }
   ],
   "source": [
    "svm_poly = svm.SVC(kernel='poly', C=1, gamma=0.1).fit(X_train, y_train)\n",
    "y_pred = svm_poly.predict(X_test)\n",
    "print(\"poly ============>\")\n",
    "print(f'accuracy : {metrics.accuracy_score(y_test, y_pred)}')\n",
    "print(f'f1 score : {metrics.f1_score(y_test, y_pred)}')\n",
    "con_mat = metrics.confusion_matrix(y_test, y_pred)\n",
    "print(f'confusion matrix : \\n{con_mat}')\n",
    "print('precisoin: ', con_mat[1][1] / (con_mat[1][1] + con_mat[0][1]))\n",
    "print('recall: ', con_mat[1][1] / (con_mat[1][1] + con_mat[1][0]))"
   ]
  },
  {
   "cell_type": "code",
   "execution_count": 32,
   "outputs": [
    {
     "name": "stdout",
     "output_type": "stream",
     "text": [
      "rbf ============>\n",
      "accuracy : 0.5549915397631133\n",
      "f1 score : 0.6362378976486861\n",
      "confusion matrix : \n",
      "[[ 98 197]\n",
      " [ 66 230]]\n",
      "precisoin:  0.5386416861826698\n",
      "recall:  0.777027027027027\n"
     ]
    }
   ],
   "source": [
    "svm_rbf = svm.SVC(kernel='rbf', C=1, gamma=0.1).fit(X_train, y_train)\n",
    "y_pred = svm_rbf.predict(X_test)\n",
    "print(\"rbf ============>\")\n",
    "print(f'accuracy : {metrics.accuracy_score(y_test, y_pred)}')\n",
    "print(f'f1 score : {metrics.f1_score(y_test, y_pred)}')\n",
    "con_mat = metrics.confusion_matrix(y_test, y_pred)\n",
    "print(f'confusion matrix : \\n{con_mat}')\n",
    "print('precisoin: ', con_mat[1][1] / (con_mat[1][1] + con_mat[0][1]))\n",
    "print('recall: ', con_mat[1][1] / (con_mat[1][1] + con_mat[1][0]))"
   ],
   "metadata": {
    "collapsed": false,
    "pycharm": {
     "name": "#%%\n"
    }
   }
  },
  {
   "cell_type": "code",
   "execution_count": 33,
   "outputs": [
    {
     "name": "stdout",
     "output_type": "stream",
     "text": [
      "sigmoid ============>\n",
      "accuracy : 0.38578680203045684\n",
      "f1 score : 0.3794871794871795\n",
      "confusion matrix : \n",
      "[[117 178]\n",
      " [185 111]]\n",
      "precisoin:  0.38408304498269896\n",
      "recall:  0.375\n"
     ]
    }
   ],
   "source": [
    "svm_sig = svm.SVC(kernel='sigmoid', C=1, gamma=0.1).fit(X_train, y_train)\n",
    "y_pred = svm_sig.predict(X_test)\n",
    "print(\"sigmoid ============>\")\n",
    "print(f'accuracy : {metrics.accuracy_score(y_test, y_pred)}')\n",
    "print(f'f1 score : {metrics.f1_score(y_test, y_pred)}')\n",
    "con_mat = metrics.confusion_matrix(y_test, y_pred)\n",
    "print(f'confusion matrix : \\n{con_mat}')\n",
    "print('precisoin: ', con_mat[1][1] / (con_mat[1][1] + con_mat[0][1]))\n",
    "print('recall: ', con_mat[1][1] / (con_mat[1][1] + con_mat[1][0]))"
   ],
   "metadata": {
    "collapsed": false,
    "pycharm": {
     "name": "#%%\n"
    }
   }
  },
  {
   "cell_type": "markdown",
   "metadata": {},
   "source": [
    "### 실습 과제 3. 하이퍼 파라미터 C 값(0.01, 0.1, 1, 10)에 따른 RBF 커널을 SVM 모델의 accuracy와 F1 score 변화 관찰"
   ]
  },
  {
   "cell_type": "code",
   "execution_count": 34,
   "metadata": {},
   "outputs": [
    {
     "name": "stdout",
     "output_type": "stream",
     "text": [
      "C = 0.01 ============>\n",
      "accuracy : 0.5008460236886633\n",
      "f1 score : 0.6674182638105975\n",
      "C = 0.1 ============>\n",
      "accuracy : 0.5329949238578681\n",
      "f1 score : 0.655860349127182\n",
      "C = 1 ============>\n",
      "accuracy : 0.5549915397631133\n",
      "f1 score : 0.6362378976486861\n",
      "C = 10 ============>\n",
      "accuracy : 0.5431472081218274\n",
      "f1 score : 0.64\n"
     ]
    }
   ],
   "source": [
    "for C in (0.01, 0.1, 1, 10):\n",
    "    svm_rbf = svm.SVC(kernel='rbf', C=C, gamma=0.1).fit(X_train, y_train)\n",
    "    y_pred = svm_rbf.predict(X_test)\n",
    "    print(f\"C = {C} ============>\")\n",
    "    print(f'accuracy : {metrics.accuracy_score(y_test, y_pred)}')\n",
    "    print(f'f1 score : {metrics.f1_score(y_test, y_pred)}')"
   ]
  },
  {
   "cell_type": "markdown",
   "metadata": {},
   "source": [
    "### 실습 과제 4. 하이퍼 파라미터 gamma 값(0.005,0.01,0.1, 1)에 따른 RBF 커널을 SVM 모델의 accuracy와 F1 score 변화 관찰"
   ]
  },
  {
   "cell_type": "code",
   "execution_count": 35,
   "metadata": {},
   "outputs": [
    {
     "name": "stdout",
     "output_type": "stream",
     "text": [
      "gamma : 0.005 ============>\n",
      "accuracy : 0.6125211505922166\n",
      "f1 score : 0.5975395430579965\n",
      "gamma : 0.01 ============>\n",
      "accuracy : 0.6159052453468697\n",
      "f1 score : 0.6260296540362439\n",
      "gamma : 0.1 ============>\n",
      "accuracy : 0.5549915397631133\n",
      "f1 score : 0.6362378976486861\n",
      "gamma : 1 ============>\n",
      "accuracy : 0.5245346869712352\n",
      "f1 score : 0.660217654171705\n"
     ]
    }
   ],
   "source": [
    "for gamma in (0.005,0.01,0.1, 1):\n",
    "    svm_rbf = svm.SVC(kernel='rbf', C=1, gamma=gamma).fit(X_train, y_train)\n",
    "    y_pred = svm_rbf.predict(X_test)\n",
    "    print(f\"gamma : {gamma} ============>\")\n",
    "    print(f'accuracy : {metrics.accuracy_score(y_test, y_pred)}')\n",
    "    print(f'f1 score : {metrics.f1_score(y_test, y_pred)}')"
   ]
  },
  {
   "cell_type": "markdown",
   "metadata": {},
   "source": [
    "### 실습 과제 5. 하이퍼 파라미터 degree(1,2,3,4,5)에 따른 다항식 커널 SVM 모델 accuracy와 F1 score 변화 관찰"
   ]
  },
  {
   "cell_type": "code",
   "execution_count": null,
   "metadata": {
    "pycharm": {
     "name": "#%%\n",
     "is_executing": true
    }
   },
   "outputs": [
    {
     "name": "stdout",
     "output_type": "stream",
     "text": [
      "degree = 1 ============>\n",
      "accuracy : 0.6091370558375635\n",
      "f1 score : 0.5633270321361059\n",
      "degree = 2 ============>\n",
      "accuracy : 0.5905245346869712\n",
      "f1 score : 0.5567765567765568\n",
      "degree = 3 ============>\n",
      "accuracy : 0.5956006768189509\n",
      "f1 score : 0.5678119349005426\n",
      "degree = 4 ============>\n",
      "accuracy : 0.5736040609137056\n",
      "f1 score : 0.5418181818181819\n"
     ]
    }
   ],
   "source": [
    "for degree in (1,2,3,4,5):\n",
    "    svm_poly = svm.SVC(kernel='poly', C=1, gamma=0.1, degree=degree).fit(X_train, y_train)\n",
    "    y_pred = svm_poly.predict(X_test)\n",
    "    print(f\"degree = {degree} ============>\")\n",
    "    print(f'accuracy : {metrics.accuracy_score(y_test, y_pred)}')\n",
    "    print(f'f1 score : {metrics.f1_score(y_test, y_pred)}')"
   ]
  }
 ],
 "metadata": {
  "kernelspec": {
   "display_name": "Python 3",
   "language": "python",
   "name": "python3"
  },
  "language_info": {
   "codemirror_mode": {
    "name": "ipython",
    "version": 3
   },
   "file_extension": ".py",
   "mimetype": "text/x-python",
   "name": "python",
   "nbconvert_exporter": "python",
   "pygments_lexer": "ipython3",
   "version": "3.8.8"
  }
 },
 "nbformat": 4,
 "nbformat_minor": 4
}